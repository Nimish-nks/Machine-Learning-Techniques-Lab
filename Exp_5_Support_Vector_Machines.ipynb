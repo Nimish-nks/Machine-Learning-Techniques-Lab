{
  "nbformat": 4,
  "nbformat_minor": 0,
  "metadata": {
    "colab": {
      "provenance": []
    },
    "kernelspec": {
      "name": "python3",
      "display_name": "Python 3"
    },
    "language_info": {
      "name": "python"
    }
  },
  "cells": [
    {
      "cell_type": "markdown",
      "source": [
        "# Experiment - 5: Support Vector Machines"
      ],
      "metadata": {
        "id": "htZ4laOTe_j2"
      }
    },
    {
      "cell_type": "markdown",
      "source": [
        "Create and test a classification model using Support Vector Machines to classify a cancer patient sample as benign (value=2) or malignant (value=4).\n",
        "\n",
        "Dataset: cell_samples.csv"
      ],
      "metadata": {
        "id": "0VMmlpXN9Z0T"
      }
    },
    {
      "cell_type": "markdown",
      "source": [
        "Below is the description of features"
      ],
      "metadata": {
        "id": "rPxK30CRA7mu"
      }
    },
    {
      "cell_type": "markdown",
      "source": [
        "\n",
        "![image.png](data:image/png;base64,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)"
      ],
      "metadata": {
        "id": "SiYfB8YyAiBZ"
      }
    },
    {
      "cell_type": "markdown",
      "source": [
        "# Import necessary libraries"
      ],
      "metadata": {
        "id": "fRoEAk9WBLuz"
      }
    },
    {
      "cell_type": "code",
      "source": [
        "import pandas as pd\n",
        "from sklearn.model_selection import train_test_split\n",
        "import matplotlib.pyplot as plt\n",
        "\n"
      ],
      "metadata": {
        "id": "TksA9tldAWxh"
      },
      "execution_count": 15,
      "outputs": []
    },
    {
      "cell_type": "markdown",
      "source": [
        "# Load data"
      ],
      "metadata": {
        "id": "NCurvZYWBkBb"
      }
    },
    {
      "cell_type": "code",
      "source": [
        "df=pd.read_csv('/content/cell_samples.csv')\n",
        "df.head()"
      ],
      "metadata": {
        "colab": {
          "base_uri": "https://localhost:8080/",
          "height": 206
        },
        "id": "e5xWBnNnBjTn",
        "outputId": "0f61200d-84f6-43a9-9678-7025a535b150"
      },
      "execution_count": 2,
      "outputs": [
        {
          "output_type": "execute_result",
          "data": {
            "text/plain": [
              "        ID  Clump  UnifSize  UnifShape  MargAdh  SingEpiSize BareNuc  \\\n",
              "0  1000025      5         1          1        1            2       1   \n",
              "1  1002945      5         4          4        5            7      10   \n",
              "2  1015425      3         1          1        1            2       2   \n",
              "3  1016277      6         8          8        1            3       4   \n",
              "4  1017023      4         1          1        3            2       1   \n",
              "\n",
              "   BlandChrom  NormNucl  Mit  Class  \n",
              "0           3         1    1      2  \n",
              "1           3         2    1      2  \n",
              "2           3         1    1      2  \n",
              "3           3         7    1      2  \n",
              "4           3         1    1      2  "
            ],
            "text/html": [
              "\n",
              "  <div id=\"df-bfa8f549-0774-48ec-b106-b28305feef67\" class=\"colab-df-container\">\n",
              "    <div>\n",
              "<style scoped>\n",
              "    .dataframe tbody tr th:only-of-type {\n",
              "        vertical-align: middle;\n",
              "    }\n",
              "\n",
              "    .dataframe tbody tr th {\n",
              "        vertical-align: top;\n",
              "    }\n",
              "\n",
              "    .dataframe thead th {\n",
              "        text-align: right;\n",
              "    }\n",
              "</style>\n",
              "<table border=\"1\" class=\"dataframe\">\n",
              "  <thead>\n",
              "    <tr style=\"text-align: right;\">\n",
              "      <th></th>\n",
              "      <th>ID</th>\n",
              "      <th>Clump</th>\n",
              "      <th>UnifSize</th>\n",
              "      <th>UnifShape</th>\n",
              "      <th>MargAdh</th>\n",
              "      <th>SingEpiSize</th>\n",
              "      <th>BareNuc</th>\n",
              "      <th>BlandChrom</th>\n",
              "      <th>NormNucl</th>\n",
              "      <th>Mit</th>\n",
              "      <th>Class</th>\n",
              "    </tr>\n",
              "  </thead>\n",
              "  <tbody>\n",
              "    <tr>\n",
              "      <th>0</th>\n",
              "      <td>1000025</td>\n",
              "      <td>5</td>\n",
              "      <td>1</td>\n",
              "      <td>1</td>\n",
              "      <td>1</td>\n",
              "      <td>2</td>\n",
              "      <td>1</td>\n",
              "      <td>3</td>\n",
              "      <td>1</td>\n",
              "      <td>1</td>\n",
              "      <td>2</td>\n",
              "    </tr>\n",
              "    <tr>\n",
              "      <th>1</th>\n",
              "      <td>1002945</td>\n",
              "      <td>5</td>\n",
              "      <td>4</td>\n",
              "      <td>4</td>\n",
              "      <td>5</td>\n",
              "      <td>7</td>\n",
              "      <td>10</td>\n",
              "      <td>3</td>\n",
              "      <td>2</td>\n",
              "      <td>1</td>\n",
              "      <td>2</td>\n",
              "    </tr>\n",
              "    <tr>\n",
              "      <th>2</th>\n",
              "      <td>1015425</td>\n",
              "      <td>3</td>\n",
              "      <td>1</td>\n",
              "      <td>1</td>\n",
              "      <td>1</td>\n",
              "      <td>2</td>\n",
              "      <td>2</td>\n",
              "      <td>3</td>\n",
              "      <td>1</td>\n",
              "      <td>1</td>\n",
              "      <td>2</td>\n",
              "    </tr>\n",
              "    <tr>\n",
              "      <th>3</th>\n",
              "      <td>1016277</td>\n",
              "      <td>6</td>\n",
              "      <td>8</td>\n",
              "      <td>8</td>\n",
              "      <td>1</td>\n",
              "      <td>3</td>\n",
              "      <td>4</td>\n",
              "      <td>3</td>\n",
              "      <td>7</td>\n",
              "      <td>1</td>\n",
              "      <td>2</td>\n",
              "    </tr>\n",
              "    <tr>\n",
              "      <th>4</th>\n",
              "      <td>1017023</td>\n",
              "      <td>4</td>\n",
              "      <td>1</td>\n",
              "      <td>1</td>\n",
              "      <td>3</td>\n",
              "      <td>2</td>\n",
              "      <td>1</td>\n",
              "      <td>3</td>\n",
              "      <td>1</td>\n",
              "      <td>1</td>\n",
              "      <td>2</td>\n",
              "    </tr>\n",
              "  </tbody>\n",
              "</table>\n",
              "</div>\n",
              "    <div class=\"colab-df-buttons\">\n",
              "\n",
              "  <div class=\"colab-df-container\">\n",
              "    <button class=\"colab-df-convert\" onclick=\"convertToInteractive('df-bfa8f549-0774-48ec-b106-b28305feef67')\"\n",
              "            title=\"Convert this dataframe to an interactive table.\"\n",
              "            style=\"display:none;\">\n",
              "\n",
              "  <svg xmlns=\"http://www.w3.org/2000/svg\" height=\"24px\" viewBox=\"0 -960 960 960\">\n",
              "    <path d=\"M120-120v-720h720v720H120Zm60-500h600v-160H180v160Zm220 220h160v-160H400v160Zm0 220h160v-160H400v160ZM180-400h160v-160H180v160Zm440 0h160v-160H620v160ZM180-180h160v-160H180v160Zm440 0h160v-160H620v160Z\"/>\n",
              "  </svg>\n",
              "    </button>\n",
              "\n",
              "  <style>\n",
              "    .colab-df-container {\n",
              "      display:flex;\n",
              "      gap: 12px;\n",
              "    }\n",
              "\n",
              "    .colab-df-convert {\n",
              "      background-color: #E8F0FE;\n",
              "      border: none;\n",
              "      border-radius: 50%;\n",
              "      cursor: pointer;\n",
              "      display: none;\n",
              "      fill: #1967D2;\n",
              "      height: 32px;\n",
              "      padding: 0 0 0 0;\n",
              "      width: 32px;\n",
              "    }\n",
              "\n",
              "    .colab-df-convert:hover {\n",
              "      background-color: #E2EBFA;\n",
              "      box-shadow: 0px 1px 2px rgba(60, 64, 67, 0.3), 0px 1px 3px 1px rgba(60, 64, 67, 0.15);\n",
              "      fill: #174EA6;\n",
              "    }\n",
              "\n",
              "    .colab-df-buttons div {\n",
              "      margin-bottom: 4px;\n",
              "    }\n",
              "\n",
              "    [theme=dark] .colab-df-convert {\n",
              "      background-color: #3B4455;\n",
              "      fill: #D2E3FC;\n",
              "    }\n",
              "\n",
              "    [theme=dark] .colab-df-convert:hover {\n",
              "      background-color: #434B5C;\n",
              "      box-shadow: 0px 1px 3px 1px rgba(0, 0, 0, 0.15);\n",
              "      filter: drop-shadow(0px 1px 2px rgba(0, 0, 0, 0.3));\n",
              "      fill: #FFFFFF;\n",
              "    }\n",
              "  </style>\n",
              "\n",
              "    <script>\n",
              "      const buttonEl =\n",
              "        document.querySelector('#df-bfa8f549-0774-48ec-b106-b28305feef67 button.colab-df-convert');\n",
              "      buttonEl.style.display =\n",
              "        google.colab.kernel.accessAllowed ? 'block' : 'none';\n",
              "\n",
              "      async function convertToInteractive(key) {\n",
              "        const element = document.querySelector('#df-bfa8f549-0774-48ec-b106-b28305feef67');\n",
              "        const dataTable =\n",
              "          await google.colab.kernel.invokeFunction('convertToInteractive',\n",
              "                                                    [key], {});\n",
              "        if (!dataTable) return;\n",
              "\n",
              "        const docLinkHtml = 'Like what you see? Visit the ' +\n",
              "          '<a target=\"_blank\" href=https://colab.research.google.com/notebooks/data_table.ipynb>data table notebook</a>'\n",
              "          + ' to learn more about interactive tables.';\n",
              "        element.innerHTML = '';\n",
              "        dataTable['output_type'] = 'display_data';\n",
              "        await google.colab.output.renderOutput(dataTable, element);\n",
              "        const docLink = document.createElement('div');\n",
              "        docLink.innerHTML = docLinkHtml;\n",
              "        element.appendChild(docLink);\n",
              "      }\n",
              "    </script>\n",
              "  </div>\n",
              "\n",
              "\n",
              "<div id=\"df-a70cb09d-3c64-4cd5-9ee8-609b0cbce18a\">\n",
              "  <button class=\"colab-df-quickchart\" onclick=\"quickchart('df-a70cb09d-3c64-4cd5-9ee8-609b0cbce18a')\"\n",
              "            title=\"Suggest charts\"\n",
              "            style=\"display:none;\">\n",
              "\n",
              "<svg xmlns=\"http://www.w3.org/2000/svg\" height=\"24px\"viewBox=\"0 0 24 24\"\n",
              "     width=\"24px\">\n",
              "    <g>\n",
              "        <path d=\"M19 3H5c-1.1 0-2 .9-2 2v14c0 1.1.9 2 2 2h14c1.1 0 2-.9 2-2V5c0-1.1-.9-2-2-2zM9 17H7v-7h2v7zm4 0h-2V7h2v10zm4 0h-2v-4h2v4z\"/>\n",
              "    </g>\n",
              "</svg>\n",
              "  </button>\n",
              "\n",
              "<style>\n",
              "  .colab-df-quickchart {\n",
              "      --bg-color: #E8F0FE;\n",
              "      --fill-color: #1967D2;\n",
              "      --hover-bg-color: #E2EBFA;\n",
              "      --hover-fill-color: #174EA6;\n",
              "      --disabled-fill-color: #AAA;\n",
              "      --disabled-bg-color: #DDD;\n",
              "  }\n",
              "\n",
              "  [theme=dark] .colab-df-quickchart {\n",
              "      --bg-color: #3B4455;\n",
              "      --fill-color: #D2E3FC;\n",
              "      --hover-bg-color: #434B5C;\n",
              "      --hover-fill-color: #FFFFFF;\n",
              "      --disabled-bg-color: #3B4455;\n",
              "      --disabled-fill-color: #666;\n",
              "  }\n",
              "\n",
              "  .colab-df-quickchart {\n",
              "    background-color: var(--bg-color);\n",
              "    border: none;\n",
              "    border-radius: 50%;\n",
              "    cursor: pointer;\n",
              "    display: none;\n",
              "    fill: var(--fill-color);\n",
              "    height: 32px;\n",
              "    padding: 0;\n",
              "    width: 32px;\n",
              "  }\n",
              "\n",
              "  .colab-df-quickchart:hover {\n",
              "    background-color: var(--hover-bg-color);\n",
              "    box-shadow: 0 1px 2px rgba(60, 64, 67, 0.3), 0 1px 3px 1px rgba(60, 64, 67, 0.15);\n",
              "    fill: var(--button-hover-fill-color);\n",
              "  }\n",
              "\n",
              "  .colab-df-quickchart-complete:disabled,\n",
              "  .colab-df-quickchart-complete:disabled:hover {\n",
              "    background-color: var(--disabled-bg-color);\n",
              "    fill: var(--disabled-fill-color);\n",
              "    box-shadow: none;\n",
              "  }\n",
              "\n",
              "  .colab-df-spinner {\n",
              "    border: 2px solid var(--fill-color);\n",
              "    border-color: transparent;\n",
              "    border-bottom-color: var(--fill-color);\n",
              "    animation:\n",
              "      spin 1s steps(1) infinite;\n",
              "  }\n",
              "\n",
              "  @keyframes spin {\n",
              "    0% {\n",
              "      border-color: transparent;\n",
              "      border-bottom-color: var(--fill-color);\n",
              "      border-left-color: var(--fill-color);\n",
              "    }\n",
              "    20% {\n",
              "      border-color: transparent;\n",
              "      border-left-color: var(--fill-color);\n",
              "      border-top-color: var(--fill-color);\n",
              "    }\n",
              "    30% {\n",
              "      border-color: transparent;\n",
              "      border-left-color: var(--fill-color);\n",
              "      border-top-color: var(--fill-color);\n",
              "      border-right-color: var(--fill-color);\n",
              "    }\n",
              "    40% {\n",
              "      border-color: transparent;\n",
              "      border-right-color: var(--fill-color);\n",
              "      border-top-color: var(--fill-color);\n",
              "    }\n",
              "    60% {\n",
              "      border-color: transparent;\n",
              "      border-right-color: var(--fill-color);\n",
              "    }\n",
              "    80% {\n",
              "      border-color: transparent;\n",
              "      border-right-color: var(--fill-color);\n",
              "      border-bottom-color: var(--fill-color);\n",
              "    }\n",
              "    90% {\n",
              "      border-color: transparent;\n",
              "      border-bottom-color: var(--fill-color);\n",
              "    }\n",
              "  }\n",
              "</style>\n",
              "\n",
              "  <script>\n",
              "    async function quickchart(key) {\n",
              "      const quickchartButtonEl =\n",
              "        document.querySelector('#' + key + ' button');\n",
              "      quickchartButtonEl.disabled = true;  // To prevent multiple clicks.\n",
              "      quickchartButtonEl.classList.add('colab-df-spinner');\n",
              "      try {\n",
              "        const charts = await google.colab.kernel.invokeFunction(\n",
              "            'suggestCharts', [key], {});\n",
              "      } catch (error) {\n",
              "        console.error('Error during call to suggestCharts:', error);\n",
              "      }\n",
              "      quickchartButtonEl.classList.remove('colab-df-spinner');\n",
              "      quickchartButtonEl.classList.add('colab-df-quickchart-complete');\n",
              "    }\n",
              "    (() => {\n",
              "      let quickchartButtonEl =\n",
              "        document.querySelector('#df-a70cb09d-3c64-4cd5-9ee8-609b0cbce18a button');\n",
              "      quickchartButtonEl.style.display =\n",
              "        google.colab.kernel.accessAllowed ? 'block' : 'none';\n",
              "    })();\n",
              "  </script>\n",
              "</div>\n",
              "\n",
              "    </div>\n",
              "  </div>\n"
            ],
            "application/vnd.google.colaboratory.intrinsic+json": {
              "type": "dataframe",
              "variable_name": "df",
              "summary": "{\n  \"name\": \"df\",\n  \"rows\": 699,\n  \"fields\": [\n    {\n      \"column\": \"ID\",\n      \"properties\": {\n        \"dtype\": \"number\",\n        \"std\": 617095,\n        \"min\": 61634,\n        \"max\": 13454352,\n        \"num_unique_values\": 645,\n        \"samples\": [\n          1371920,\n          1277792,\n          1311108\n        ],\n        \"semantic_type\": \"\",\n        \"description\": \"\"\n      }\n    },\n    {\n      \"column\": \"Clump\",\n      \"properties\": {\n        \"dtype\": \"number\",\n        \"std\": 2,\n        \"min\": 1,\n        \"max\": 10,\n        \"num_unique_values\": 10,\n        \"samples\": [\n          10,\n          3,\n          1\n        ],\n        \"semantic_type\": \"\",\n        \"description\": \"\"\n      }\n    },\n    {\n      \"column\": \"UnifSize\",\n      \"properties\": {\n        \"dtype\": \"number\",\n        \"std\": 3,\n        \"min\": 1,\n        \"max\": 10,\n        \"num_unique_values\": 10,\n        \"samples\": [\n          6,\n          4,\n          3\n        ],\n        \"semantic_type\": \"\",\n        \"description\": \"\"\n      }\n    },\n    {\n      \"column\": \"UnifShape\",\n      \"properties\": {\n        \"dtype\": \"number\",\n        \"std\": 2,\n        \"min\": 1,\n        \"max\": 10,\n        \"num_unique_values\": 10,\n        \"samples\": [\n          7,\n          4,\n          3\n        ],\n        \"semantic_type\": \"\",\n        \"description\": \"\"\n      }\n    },\n    {\n      \"column\": \"MargAdh\",\n      \"properties\": {\n        \"dtype\": \"number\",\n        \"std\": 2,\n        \"min\": 1,\n        \"max\": 10,\n        \"num_unique_values\": 10,\n        \"samples\": [\n          9,\n          5,\n          4\n        ],\n        \"semantic_type\": \"\",\n        \"description\": \"\"\n      }\n    },\n    {\n      \"column\": \"SingEpiSize\",\n      \"properties\": {\n        \"dtype\": \"number\",\n        \"std\": 2,\n        \"min\": 1,\n        \"max\": 10,\n        \"num_unique_values\": 10,\n        \"samples\": [\n          10,\n          7,\n          4\n        ],\n        \"semantic_type\": \"\",\n        \"description\": \"\"\n      }\n    },\n    {\n      \"column\": \"BareNuc\",\n      \"properties\": {\n        \"dtype\": \"category\",\n        \"num_unique_values\": 11,\n        \"samples\": [\n          \"9\",\n          \"1\",\n          \"8\"\n        ],\n        \"semantic_type\": \"\",\n        \"description\": \"\"\n      }\n    },\n    {\n      \"column\": \"BlandChrom\",\n      \"properties\": {\n        \"dtype\": \"number\",\n        \"std\": 2,\n        \"min\": 1,\n        \"max\": 10,\n        \"num_unique_values\": 10,\n        \"samples\": [\n          6,\n          9,\n          5\n        ],\n        \"semantic_type\": \"\",\n        \"description\": \"\"\n      }\n    },\n    {\n      \"column\": \"NormNucl\",\n      \"properties\": {\n        \"dtype\": \"number\",\n        \"std\": 3,\n        \"min\": 1,\n        \"max\": 10,\n        \"num_unique_values\": 10,\n        \"samples\": [\n          9,\n          2,\n          3\n        ],\n        \"semantic_type\": \"\",\n        \"description\": \"\"\n      }\n    },\n    {\n      \"column\": \"Mit\",\n      \"properties\": {\n        \"dtype\": \"number\",\n        \"std\": 1,\n        \"min\": 1,\n        \"max\": 10,\n        \"num_unique_values\": 9,\n        \"samples\": [\n          8,\n          5,\n          7\n        ],\n        \"semantic_type\": \"\",\n        \"description\": \"\"\n      }\n    },\n    {\n      \"column\": \"Class\",\n      \"properties\": {\n        \"dtype\": \"number\",\n        \"std\": 0,\n        \"min\": 2,\n        \"max\": 4,\n        \"num_unique_values\": 2,\n        \"samples\": [\n          4,\n          2\n        ],\n        \"semantic_type\": \"\",\n        \"description\": \"\"\n      }\n    }\n  ]\n}"
            }
          },
          "metadata": {},
          "execution_count": 2
        }
      ]
    },
    {
      "cell_type": "code",
      "source": [
        "df.shape"
      ],
      "metadata": {
        "colab": {
          "base_uri": "https://localhost:8080/"
        },
        "id": "paXbCqndEPhj",
        "outputId": "0d3bcc49-7b58-43a2-bbca-596f0ec5cf86"
      },
      "execution_count": 3,
      "outputs": [
        {
          "output_type": "execute_result",
          "data": {
            "text/plain": [
              "(699, 11)"
            ]
          },
          "metadata": {},
          "execution_count": 3
        }
      ]
    },
    {
      "cell_type": "markdown",
      "source": [
        "# Data Pre-processing"
      ],
      "metadata": {
        "id": "KQP9m7j9EnAq"
      }
    },
    {
      "cell_type": "markdown",
      "source": [
        "One should always check the datatype"
      ],
      "metadata": {
        "id": "5jtU3eTyEsdA"
      }
    },
    {
      "cell_type": "code",
      "source": [
        "df.dtypes"
      ],
      "metadata": {
        "colab": {
          "base_uri": "https://localhost:8080/"
        },
        "id": "ZPnjzpG0D8Sl",
        "outputId": "abe40b85-b068-4f2d-8cf3-7f3137bbc167"
      },
      "execution_count": 4,
      "outputs": [
        {
          "output_type": "execute_result",
          "data": {
            "text/plain": [
              "ID              int64\n",
              "Clump           int64\n",
              "UnifSize        int64\n",
              "UnifShape       int64\n",
              "MargAdh         int64\n",
              "SingEpiSize     int64\n",
              "BareNuc        object\n",
              "BlandChrom      int64\n",
              "NormNucl        int64\n",
              "Mit             int64\n",
              "Class           int64\n",
              "dtype: object"
            ]
          },
          "metadata": {},
          "execution_count": 4
        }
      ]
    },
    {
      "cell_type": "markdown",
      "source": [
        "Converting 'object' datatype to numeric datatype."
      ],
      "metadata": {
        "id": "xx7slpCvgEFZ"
      }
    },
    {
      "cell_type": "code",
      "source": [
        "df = df[pd.to_numeric(df['BareNuc'], errors='coerce').notnull()]\n",
        "df['BareNuc'] = df['BareNuc'].astype('int')\n",
        "df.dtypes"
      ],
      "metadata": {
        "colab": {
          "base_uri": "https://localhost:8080/"
        },
        "id": "t6S9gN3iLukj",
        "outputId": "87100cd7-16c0-4189-a1c6-c3eb0f3e0597"
      },
      "execution_count": 25,
      "outputs": [
        {
          "output_type": "execute_result",
          "data": {
            "text/plain": [
              "ID             int64\n",
              "Clump          int64\n",
              "UnifSize       int64\n",
              "UnifShape      int64\n",
              "MargAdh        int64\n",
              "SingEpiSize    int64\n",
              "BareNuc        int64\n",
              "BlandChrom     int64\n",
              "NormNucl       int64\n",
              "Mit            int64\n",
              "Class          int64\n",
              "dtype: object"
            ]
          },
          "metadata": {},
          "execution_count": 25
        }
      ]
    },
    {
      "cell_type": "code",
      "source": [
        "X = df[['Clump', 'UnifSize', 'UnifShape', 'MargAdh', 'SingEpiSize', 'BareNuc', 'BlandChrom', 'NormNucl', 'Mit']]"
      ],
      "metadata": {
        "id": "cJNNgMGzQuay"
      },
      "execution_count": 11,
      "outputs": []
    },
    {
      "cell_type": "code",
      "source": [
        "Y= df['Class']"
      ],
      "metadata": {
        "id": "dmn5es9KE4pU"
      },
      "execution_count": 13,
      "outputs": []
    },
    {
      "cell_type": "markdown",
      "source": [
        "# Train test split"
      ],
      "metadata": {
        "id": "xcL8ggFAXLfM"
      }
    },
    {
      "cell_type": "code",
      "source": [
        "X_train, X_test, y_train, y_test = train_test_split( X, Y, test_size=0.2, random_state=4)\n",
        "print ('Train set:', X_train.shape,  y_train.shape)\n",
        "print ('Test set:', X_test.shape,  y_test.shape)"
      ],
      "metadata": {
        "colab": {
          "base_uri": "https://localhost:8080/"
        },
        "id": "HyKQfFxAOdWw",
        "outputId": "d967d6e3-038c-4d61-e12a-3986b76dba0c"
      },
      "execution_count": 17,
      "outputs": [
        {
          "output_type": "stream",
          "name": "stdout",
          "text": [
            "Train set: (546, 9) (546,)\n",
            "Test set: (137, 9) (137,)\n"
          ]
        }
      ]
    },
    {
      "cell_type": "markdown",
      "source": [
        "# Training"
      ],
      "metadata": {
        "id": "80teqB7CYdwR"
      }
    },
    {
      "cell_type": "markdown",
      "source": [
        "The SVM algorithm offers a choice of kernel functions for performing its processing. Basically, mapping data into a higher dimensional space is called kernelling. The mathematical function used for the transformation is known as the kernel function, and can be of different types, such as:\n",
        "\n",
        "1.   Linear\n",
        "2.   Polynomial\n",
        "3.   Radial Basis Function\n",
        "4.   Sigmoid\n",
        "\n",
        "General approach is to choose different functions in turn and compare the results. Let's just use the default, RBF (Radial Basis Function) for this lab."
      ],
      "metadata": {
        "id": "ru1N1sYVXvii"
      }
    },
    {
      "cell_type": "code",
      "source": [
        "from sklearn import svm\n",
        "clf = svm.SVC(kernel='rbf')\n",
        "clf.fit(X_train, y_train)"
      ],
      "metadata": {
        "colab": {
          "base_uri": "https://localhost:8080/",
          "height": 75
        },
        "id": "Tghw0bTbXb60",
        "outputId": "869236b8-2add-437f-c5c2-4f050b099d1c"
      },
      "execution_count": 18,
      "outputs": [
        {
          "output_type": "execute_result",
          "data": {
            "text/plain": [
              "SVC()"
            ],
            "text/html": [
              "<style>#sk-container-id-1 {color: black;background-color: white;}#sk-container-id-1 pre{padding: 0;}#sk-container-id-1 div.sk-toggleable {background-color: white;}#sk-container-id-1 label.sk-toggleable__label {cursor: pointer;display: block;width: 100%;margin-bottom: 0;padding: 0.3em;box-sizing: border-box;text-align: center;}#sk-container-id-1 label.sk-toggleable__label-arrow:before {content: \"▸\";float: left;margin-right: 0.25em;color: #696969;}#sk-container-id-1 label.sk-toggleable__label-arrow:hover:before {color: black;}#sk-container-id-1 div.sk-estimator:hover label.sk-toggleable__label-arrow:before {color: black;}#sk-container-id-1 div.sk-toggleable__content {max-height: 0;max-width: 0;overflow: hidden;text-align: left;background-color: #f0f8ff;}#sk-container-id-1 div.sk-toggleable__content pre {margin: 0.2em;color: black;border-radius: 0.25em;background-color: #f0f8ff;}#sk-container-id-1 input.sk-toggleable__control:checked~div.sk-toggleable__content {max-height: 200px;max-width: 100%;overflow: auto;}#sk-container-id-1 input.sk-toggleable__control:checked~label.sk-toggleable__label-arrow:before {content: \"▾\";}#sk-container-id-1 div.sk-estimator input.sk-toggleable__control:checked~label.sk-toggleable__label {background-color: #d4ebff;}#sk-container-id-1 div.sk-label input.sk-toggleable__control:checked~label.sk-toggleable__label {background-color: #d4ebff;}#sk-container-id-1 input.sk-hidden--visually {border: 0;clip: rect(1px 1px 1px 1px);clip: rect(1px, 1px, 1px, 1px);height: 1px;margin: -1px;overflow: hidden;padding: 0;position: absolute;width: 1px;}#sk-container-id-1 div.sk-estimator {font-family: monospace;background-color: #f0f8ff;border: 1px dotted black;border-radius: 0.25em;box-sizing: border-box;margin-bottom: 0.5em;}#sk-container-id-1 div.sk-estimator:hover {background-color: #d4ebff;}#sk-container-id-1 div.sk-parallel-item::after {content: \"\";width: 100%;border-bottom: 1px solid gray;flex-grow: 1;}#sk-container-id-1 div.sk-label:hover label.sk-toggleable__label {background-color: #d4ebff;}#sk-container-id-1 div.sk-serial::before {content: \"\";position: absolute;border-left: 1px solid gray;box-sizing: border-box;top: 0;bottom: 0;left: 50%;z-index: 0;}#sk-container-id-1 div.sk-serial {display: flex;flex-direction: column;align-items: center;background-color: white;padding-right: 0.2em;padding-left: 0.2em;position: relative;}#sk-container-id-1 div.sk-item {position: relative;z-index: 1;}#sk-container-id-1 div.sk-parallel {display: flex;align-items: stretch;justify-content: center;background-color: white;position: relative;}#sk-container-id-1 div.sk-item::before, #sk-container-id-1 div.sk-parallel-item::before {content: \"\";position: absolute;border-left: 1px solid gray;box-sizing: border-box;top: 0;bottom: 0;left: 50%;z-index: -1;}#sk-container-id-1 div.sk-parallel-item {display: flex;flex-direction: column;z-index: 1;position: relative;background-color: white;}#sk-container-id-1 div.sk-parallel-item:first-child::after {align-self: flex-end;width: 50%;}#sk-container-id-1 div.sk-parallel-item:last-child::after {align-self: flex-start;width: 50%;}#sk-container-id-1 div.sk-parallel-item:only-child::after {width: 0;}#sk-container-id-1 div.sk-dashed-wrapped {border: 1px dashed gray;margin: 0 0.4em 0.5em 0.4em;box-sizing: border-box;padding-bottom: 0.4em;background-color: white;}#sk-container-id-1 div.sk-label label {font-family: monospace;font-weight: bold;display: inline-block;line-height: 1.2em;}#sk-container-id-1 div.sk-label-container {text-align: center;}#sk-container-id-1 div.sk-container {/* jupyter's `normalize.less` sets `[hidden] { display: none; }` but bootstrap.min.css set `[hidden] { display: none !important; }` so we also need the `!important` here to be able to override the default hidden behavior on the sphinx rendered scikit-learn.org. See: https://github.com/scikit-learn/scikit-learn/issues/21755 */display: inline-block !important;position: relative;}#sk-container-id-1 div.sk-text-repr-fallback {display: none;}</style><div id=\"sk-container-id-1\" class=\"sk-top-container\"><div class=\"sk-text-repr-fallback\"><pre>SVC()</pre><b>In a Jupyter environment, please rerun this cell to show the HTML representation or trust the notebook. <br />On GitHub, the HTML representation is unable to render, please try loading this page with nbviewer.org.</b></div><div class=\"sk-container\" hidden><div class=\"sk-item\"><div class=\"sk-estimator sk-toggleable\"><input class=\"sk-toggleable__control sk-hidden--visually\" id=\"sk-estimator-id-1\" type=\"checkbox\" checked><label for=\"sk-estimator-id-1\" class=\"sk-toggleable__label sk-toggleable__label-arrow\">SVC</label><div class=\"sk-toggleable__content\"><pre>SVC()</pre></div></div></div></div></div>"
            ]
          },
          "metadata": {},
          "execution_count": 18
        }
      ]
    },
    {
      "cell_type": "markdown",
      "source": [
        "# Prediction"
      ],
      "metadata": {
        "id": "tUDTVk_PaxMS"
      }
    },
    {
      "cell_type": "code",
      "source": [
        "yhat = clf.predict(X_test)\n",
        "yhat [0:5]"
      ],
      "metadata": {
        "colab": {
          "base_uri": "https://localhost:8080/"
        },
        "id": "_TOpT_iuauLo",
        "outputId": "2a5e3c31-ab8e-4161-dce7-8f4714945d8c"
      },
      "execution_count": 19,
      "outputs": [
        {
          "output_type": "execute_result",
          "data": {
            "text/plain": [
              "array([2, 4, 2, 4, 2])"
            ]
          },
          "metadata": {},
          "execution_count": 19
        }
      ]
    },
    {
      "cell_type": "markdown",
      "source": [
        "# Evaluation"
      ],
      "metadata": {
        "id": "5sENxH1idANq"
      }
    },
    {
      "cell_type": "code",
      "source": [
        "from sklearn.metrics import confusion_matrix\n",
        "cnf_matrix = confusion_matrix(y_test, yhat, labels=[2,4])\n",
        "cnf_matrix"
      ],
      "metadata": {
        "colab": {
          "base_uri": "https://localhost:8080/"
        },
        "id": "FEVmyFQDdEMI",
        "outputId": "05579e5f-d9fa-4445-a434-6dc8c2228b91"
      },
      "execution_count": 24,
      "outputs": [
        {
          "output_type": "execute_result",
          "data": {
            "text/plain": [
              "array([[85,  5],\n",
              "       [ 0, 47]])"
            ]
          },
          "metadata": {},
          "execution_count": 24
        }
      ]
    },
    {
      "cell_type": "markdown",
      "source": [
        "I am uploading below image just to show how confusion matrix can be interpreted. Student assignment is to try generating below confusion matrix using code."
      ],
      "metadata": {
        "id": "tTeJlFGyfV36"
      }
    },
    {
      "cell_type": "markdown",
      "source": [
        "![Confusion_Matrix.png](data:image/png;base64,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)"
      ],
      "metadata": {
        "id": "kB8Nd7ugfQ-a"
      }
    },
    {
      "cell_type": "code",
      "source": [],
      "metadata": {
        "id": "43aMn8-BdUb_"
      },
      "execution_count": null,
      "outputs": []
    }
  ]
}